{
 "cells": [
  {
   "cell_type": "markdown",
   "id": "38ebb718",
   "metadata": {},
   "source": [
    "## Exercise #1 <br>\n",
    "<p>Accept two user ages as inputs and give us the difference between them. (The Answer should always be a positive output(</p>"
   ]
  },
  {
   "cell_type": "code",
   "execution_count": null,
   "id": "fe08a6ab",
   "metadata": {},
   "outputs": [],
   "source": [
    "age1 = int(input(\"Enter the first age: \"))\n",
    "age2 = int(input(\"Enter the second age: \"))\n",
    "age_d = age1 - age2\n",
    "print(f\"The age difference between ({age1}) and ({age2}) is: ({abs(age_d)})\")"
   ]
  },
  {
   "cell_type": "markdown",
   "id": "039e8bea",
   "metadata": {},
   "source": [
    "## Exercise #2 <br>\n",
    "<p>Accept 3 user inputs for variables named noun, verb and adjective. Print out a formatted string using the outputs.</p>"
   ]
  },
  {
   "cell_type": "code",
   "execution_count": null,
   "id": "5b1fabf9",
   "metadata": {},
   "outputs": [],
   "source": [
    "noun = input(\"Enter a noun: \")\n",
    "verb = input(\"Enter a verb: \")\n",
    "adjective = input(\"Enter a adjective: \")\n",
    "\n",
    "print(f\"The noun you entered is {noun}, the verb is {verb} and the adjective is {adjective}\")"
   ]
  },
  {
   "cell_type": "markdown",
   "id": "a442a64e",
   "metadata": {},
   "source": [
    "## Exercise #3 <br>\n",
    "<p>Take in a users input for their age, if they are younger than 18 print kids, if they're 18 to 65 print adults, else print seniors</p>"
   ]
  },
  {
   "cell_type": "code",
   "execution_count": 20,
   "id": "86ee2477",
   "metadata": {},
   "outputs": [
    {
     "name": "stdout",
     "output_type": "stream",
     "text": [
      "Enter your age: 0\n",
      "Invalid input\n",
      "Enter y to repeat or enter n to exit: y\n",
      "Enter your age: 18\n",
      "Adult\n",
      "Enter y to repeat or enter n to exit: n\n",
      "Goodbye\n"
     ]
    }
   ],
   "source": [
    "e = \"y\"\n",
    "while e == 'y':\n",
    "    age = int(input(\"Enter your age: \"))\n",
    "    if age > 0:\n",
    "        if age < 18:\n",
    "            print(\"Kid\")\n",
    "        elif age >= 18 and age <= 65:\n",
    "            print(\"Adult\")\n",
    "        else:\n",
    "            print(\"Senior\")\n",
    "    else:\n",
    "        print(\"Invalid input\")\n",
    "\n",
    "    e = input(\"Enter y to repeat or enter n to exit: \")\n",
    "\n",
    "print(\"Goodbye\")"
   ]
  },
  {
   "cell_type": "markdown",
   "id": "4c5797e6",
   "metadata": {},
   "source": [
    "# Exercise #4<br>\n",
    "<p>Take in a number from a user input. Square and Cube that number</p>"
   ]
  },
  {
   "cell_type": "code",
   "execution_count": null,
   "id": "e9a50d23",
   "metadata": {},
   "outputs": [],
   "source": [
    "num = int(input(\"Enter number to Square and Cube\"))\n",
    "num_s = num**2\n",
    "num_c = num**3\n",
    "print(f\"Your number is {num}\")\n",
    "print(f\"The square is {num_s} and the cude is {num_c}\")"
   ]
  }
 ],
 "metadata": {
  "kernelspec": {
   "display_name": "Python 3 (ipykernel)",
   "language": "python",
   "name": "python3"
  },
  "language_info": {
   "codemirror_mode": {
    "name": "ipython",
    "version": 3
   },
   "file_extension": ".py",
   "mimetype": "text/x-python",
   "name": "python",
   "nbconvert_exporter": "python",
   "pygments_lexer": "ipython3",
   "version": "3.9.13"
  }
 },
 "nbformat": 4,
 "nbformat_minor": 5
}
